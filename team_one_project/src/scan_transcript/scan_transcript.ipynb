{
 "cells": [
  {
   "cell_type": "code",
   "execution_count": 63,
   "metadata": {},
   "outputs": [
    {
     "name": "stdout",
     "output_type": "stream",
     "text": [
      "Requirement already satisfied: PyPDF2 in /Users/rolf/anaconda3/lib/python3.10/site-packages (3.0.1)\n",
      "Note: you may need to restart the kernel to use updated packages.\n",
      "Requirement already satisfied: pandas in /Users/rolf/anaconda3/lib/python3.10/site-packages (1.5.3)\n",
      "Requirement already satisfied: python-dateutil>=2.8.1 in /Users/rolf/anaconda3/lib/python3.10/site-packages (from pandas) (2.8.2)\n",
      "Requirement already satisfied: pytz>=2020.1 in /Users/rolf/anaconda3/lib/python3.10/site-packages (from pandas) (2022.7)\n",
      "Requirement already satisfied: numpy>=1.21.0 in /Users/rolf/anaconda3/lib/python3.10/site-packages (from pandas) (1.23.5)\n",
      "Requirement already satisfied: six>=1.5 in /Users/rolf/anaconda3/lib/python3.10/site-packages (from python-dateutil>=2.8.1->pandas) (1.16.0)\n",
      "Note: you may need to restart the kernel to use updated packages.\n"
     ]
    }
   ],
   "source": [
    "%pip install PyPDF2\n",
    "%pip install pandas"
   ]
  },
  {
   "cell_type": "code",
   "execution_count": 64,
   "metadata": {},
   "outputs": [
    {
     "name": "stdout",
     "output_type": "stream",
     "text": [
      "   Subject Catalog Nbr\n",
      "0       CS         171\n",
      "1       CS      999XFR\n",
      "2       CS         224\n",
      "3      ENG         214\n",
      "4    ENGRD         101\n",
      "5      JPN         101\n",
      "6     MATH         111\n",
      "7     MATH         112\n",
      "8     MATH         221\n",
      "9     PHIL         100\n",
      "10    PHIL      999XFR\n",
      "11    PHIL         120\n",
      "12    PHIL        200W\n",
      "13     REL      999XFR\n",
      "14     REL      999XFR\n",
      "15      CS         253\n",
      "16      CS         255\n",
      "17     JPN         102\n",
      "18    PHIL         385\n",
      "19     SOC         221\n"
     ]
    }
   ],
   "source": [
    "import PyPDF2\n",
    "import re\n",
    "import pandas as pd\n",
    "\n",
    "data_list = []\n",
    "\n",
    "with open(\"SAA_STD_DS.pdf\", \"rb\") as f:\n",
    "    pdf_reader = PyPDF2.PdfReader(f)\n",
    "    num_pages = len(pdf_reader.pages)\n",
    "    \n",
    "    text = \" \"\n",
    "    for page_num in range(num_pages):\n",
    "        page = pdf_reader.pages[page_num]\n",
    "        text += page.extract_text()\n",
    "        \n",
    "    ## Truncating input text, leaving only tables with title \"Fall 2022\", \"Spr 2023\" and of this sort\n",
    "    section_start = text.find(\"Course History\")\n",
    "    section_end = text.find(\"Fall 2023\")    ##does not include current term\n",
    "    # section_end = text.find(\"LEGEND, DISCLAIMER, GPA AND TOTAL HOURS\")    ##includes current term\n",
    "    section_text = text[section_start:section_end]\n",
    "\n",
    "## at this stage, section_text is truncated to the course history, and does not include current term.\n",
    "subjects_catalogs = []\n",
    "\n",
    "for line in section_text.split('\\n'):\n",
    "    match = re.match(r'([A-Z]+)\\s+(\\d+[A-Z]*[A-Z]*)', line)\n",
    "    if match:\n",
    "        subject, catalog_nbr = match.groups()\n",
    "        subjects_catalogs.append({'Subject': subject, 'Catalog Nbr': catalog_nbr})\n",
    "\n",
    "# Create a DataFrame from the list\n",
    "df = pd.DataFrame(subjects_catalogs)\n",
    "print(df)\n",
    "\n",
    "# write to txt\n",
    "df.to_csv(\"subject_and_catalogue_number.txt\", sep='\\t', index=False)\n"
   ]
  }
 ],
 "metadata": {
  "kernelspec": {
   "display_name": "Python 3",
   "language": "python",
   "name": "python3"
  },
  "language_info": {
   "codemirror_mode": {
    "name": "ipython",
    "version": 3
   },
   "file_extension": ".py",
   "mimetype": "text/x-python",
   "name": "python",
   "nbconvert_exporter": "python",
   "pygments_lexer": "ipython3",
   "version": "3.10.9"
  },
  "orig_nbformat": 4
 },
 "nbformat": 4,
 "nbformat_minor": 2
}
